{
 "cells": [
  {
   "attachments": {},
   "cell_type": "markdown",
   "metadata": {},
   "source": [
    "This is a jupyter notebook file. It contains the functions used in the project. These are all custom functions I made for convenience. The functions are:"
   ]
  },
  {
   "cell_type": "code",
   "execution_count": 14,
   "metadata": {},
   "outputs": [
    {
     "name": "stdout",
     "output_type": "stream",
     "text": [
      "HA\n",
      "HAHAHAHAHAHAHAHAHAHA\n",
      "HAHAHAHAHAHAHAHAHAHAHAHAHAHAHAHAHAHAHAHAHAHAHAHAHAHAHAHAHAHAHAHAHAHAHAHAHAHAHAHAHAHAHAHAHAHAHAHAHAHAHAHAHAHAHAHAHAHAHAHAHAHAHAHAHAHAHAHAHAHAHAHAHAHAHAHAHAHAHAHAHAHAHAHAHAHAHAHAHAHAHAHAHAHAHAHAHAHAHAHA\n",
      "HAHA\n"
     ]
    }
   ],
   "source": [
    "def laugh(level=2):\n",
    "    print(\"HA\" * level)\n",
    "\n",
    "laugh(1)\n",
    "laugh(10)\n",
    "laugh(100)\n",
    "laugh()"
   ]
  },
  {
   "cell_type": "code",
   "execution_count": 10,
   "metadata": {},
   "outputs": [
    {
     "data": {
      "text/plain": [
       "25.0"
      ]
     },
     "execution_count": 10,
     "metadata": {},
     "output_type": "execute_result"
    }
   ],
   "source": [
    "def divide(x = 1,y = 2):\n",
    "    #print(x/y)\n",
    "    return x/y\n",
    "\n",
    "divide()``\n",
    "divide(56,7)\n",
    "divide(0.5,100)\n",
    "divide(100,4)"
   ]
  },
  {
   "cell_type": "code",
   "execution_count": 19,
   "metadata": {},
   "outputs": [
    {
     "data": {
      "text/plain": [
       "True"
      ]
     },
     "execution_count": 19,
     "metadata": {},
     "output_type": "execute_result"
    }
   ],
   "source": [
    "def is_even(num):\n",
    "    if num % 2 == 0:\n",
    "        return True\n",
    "    else:\n",
    "        return False\n",
    "\n",
    "is_even(10)\n",
    "is_even(13)\n",
    "is_even(-200)\n",
    "is_even(1)\n",
    "is_even(0)"
   ]
  },
  {
   "cell_type": "code",
   "execution_count": 15,
   "metadata": {},
   "outputs": [
    {
     "data": {
      "text/plain": [
       "'this_is_a_random_sentence'"
      ]
     },
     "execution_count": 15,
     "metadata": {},
     "output_type": "execute_result"
    }
   ],
   "source": [
    "def slugify(phrase, sep =\"-\"):\n",
    "     return phrase.strip().replace(\" \", \"_\").lower()\n",
    "\n",
    "slugify(\"            THIS is a Random sentEnce                 \")\n"
   ]
  },
  {
   "cell_type": "code",
   "execution_count": 12,
   "metadata": {},
   "outputs": [
    {
     "data": {
      "text/plain": [
       "0"
      ]
     },
     "execution_count": 12,
     "metadata": {},
     "output_type": "execute_result"
    }
   ],
   "source": [
    "def count_vowels(word):\n",
    "    count = 0\n",
    "    word = word.lower()\n",
    "    for i in word:\n",
    "        if i in 'aeiou':\n",
    "            count += 1\n",
    "    return count\n",
    "\n",
    "count_vowels(\"Apple\")\n",
    "count_vowels(\"hello world\")\n",
    "count_vowels(\"sssss\")\n",
    "\n"
   ]
  },
  {
   "cell_type": "code",
   "execution_count": 18,
   "metadata": {},
   "outputs": [
    {
     "name": "stdout",
     "output_type": "stream",
     "text": [
      "81.6\n",
      "65.28\n",
      "23.52\n"
     ]
    }
   ],
   "source": [
    "def get_total(price, qty=1, tax=0.02, discount=0):\n",
    "    subtotal = price * qty * (1-discount)\n",
    "    print(subtotal * (1 + tax))\n",
    "\n",
    "get_total(20, 4, 0.02)\n",
    "get_total(20, 4, 0.02, .20)\n",
    "get_total(20, discount= 0.02, tax= .20)"
   ]
  },
  {
   "cell_type": "code",
   "execution_count": 27,
   "metadata": {},
   "outputs": [
    {
     "data": {
      "text/plain": [
       "96000"
      ]
     },
     "execution_count": 27,
     "metadata": {},
     "output_type": "execute_result"
    }
   ],
   "source": [
    "def salary(hourly, hours_per_week = 40):\n",
    "    weekly = hourly * hours_per_week\n",
    "    monthly = weekly * 4\n",
    "    yearly = monthly * 12\n",
    "    return yearly\n",
    "\n",
    "salary(20, 20)\n",
    "salary(45)\n",
    "salary(50)\n",
    "\n"
   ]
  },
  {
   "cell_type": "code",
   "execution_count": 33,
   "metadata": {},
   "outputs": [
    {
     "data": {
      "text/plain": [
       "52.083333333333336"
      ]
     },
     "execution_count": 33,
     "metadata": {},
     "output_type": "execute_result"
    }
   ],
   "source": [
    "def hourlyRate(yearly, hours_per_week = 40):\n",
    "    monthly = yearly / 12\n",
    "    weekly = monthly / 4\n",
    "    hourly = weekly / hours_per_week\n",
    "    return hourly\n",
    "\n",
    "hourlyRate(96000)\n",
    "hourlyRate(20000, 20)\n",
    "hourlyRate(100000)\n"
   ]
  },
  {
   "cell_type": "code",
   "execution_count": null,
   "metadata": {},
   "outputs": [],
   "source": []
  },
  {
   "cell_type": "code",
   "execution_count": null,
   "metadata": {},
   "outputs": [],
   "source": []
  },
  {
   "cell_type": "code",
   "execution_count": null,
   "metadata": {},
   "outputs": [],
   "source": []
  }
 ],
 "metadata": {
  "kernelspec": {
   "display_name": "Python 3",
   "language": "python",
   "name": "python3"
  },
  "language_info": {
   "codemirror_mode": {
    "name": "ipython",
    "version": 3
   },
   "file_extension": ".py",
   "mimetype": "text/x-python",
   "name": "python",
   "nbconvert_exporter": "python",
   "pygments_lexer": "ipython3",
   "version": "3.10.11"
  },
  "orig_nbformat": 4
 },
 "nbformat": 4,
 "nbformat_minor": 2
}
